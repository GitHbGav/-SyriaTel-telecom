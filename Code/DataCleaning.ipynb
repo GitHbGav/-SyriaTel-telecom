{
 "cells": [
  {
   "cell_type": "markdown",
   "metadata": {},
   "source": [
    "## Data is from\n",
    "(Crashes) - https://data.cityofchicago.org/Transportation/Traffic-Crashes-Crashes/85ca-t3if\n",
    "\n",
    "(People) - https://data.cityofchicago.org/Transportation/Traffic-Crashes-People/u6pd-qa9d\n",
    "\n",
    "(Vehicles) - https://data.cityofchicago.org/Transportation/Traffic-Crashes-Vehicles/68nd-jvt3"
   ]
  },
  {
   "cell_type": "markdown",
   "metadata": {},
   "source": [
    "Imports"
   ]
  },
  {
   "cell_type": "code",
   "execution_count": 1,
   "metadata": {},
   "outputs": [],
   "source": [
    "import pandas as pd\n",
    "\n",
    "pd.pandas.set_option('display.max_columns', None)\n",
    "pd.set_option('display.max_colwidth', 55)"
   ]
  },
  {
   "cell_type": "markdown",
   "metadata": {},
   "source": [
    "Load Data"
   ]
  },
  {
   "cell_type": "code",
   "execution_count": 2,
   "metadata": {
    "scrolled": true
   },
   "outputs": [],
   "source": [
    "vehicles =pd.read_csv('../data/Traffic_Crashes_Vehicles.csv', low_memory = False)\n",
    "#crashes =pd.read_csv('../data/Traffic_Crashes_Crashes.csv', low_memory = False)\n",
    "#people =pd.read_csv('../data/Traffic_Crashes_People.csv', low_memory = False)"
   ]
  },
  {
   "cell_type": "markdown",
   "metadata": {},
   "source": [
    "Going to work on cleaning up vehicles first"
   ]
  },
  {
   "cell_type": "code",
   "execution_count": 3,
   "metadata": {
    "scrolled": true
   },
   "outputs": [
    {
     "data": {
      "text/html": [
       "<div>\n",
       "<style scoped>\n",
       "    .dataframe tbody tr th:only-of-type {\n",
       "        vertical-align: middle;\n",
       "    }\n",
       "\n",
       "    .dataframe tbody tr th {\n",
       "        vertical-align: top;\n",
       "    }\n",
       "\n",
       "    .dataframe thead th {\n",
       "        text-align: right;\n",
       "    }\n",
       "</style>\n",
       "<table border=\"1\" class=\"dataframe\">\n",
       "  <thead>\n",
       "    <tr style=\"text-align: right;\">\n",
       "      <th></th>\n",
       "      <th>CRASH_UNIT_ID</th>\n",
       "      <th>UNIT_TYPE</th>\n",
       "      <th>UNIT_NO</th>\n",
       "      <th>CRASH_RECORD_ID</th>\n",
       "      <th>CRASH_DATE</th>\n",
       "      <th>NUM_PASSENGERS</th>\n",
       "      <th>VEHICLE_ID</th>\n",
       "      <th>CMRC_VEH_I</th>\n",
       "      <th>MAKE</th>\n",
       "      <th>MODEL</th>\n",
       "      <th>LIC_PLATE_STATE</th>\n",
       "      <th>VEHICLE_YEAR</th>\n",
       "      <th>VEHICLE_DEFECT</th>\n",
       "      <th>VEHICLE_TYPE</th>\n",
       "      <th>VEHICLE_USE</th>\n",
       "      <th>TRAVEL_DIRECTION</th>\n",
       "      <th>MANEUVER</th>\n",
       "      <th>TOWED_I</th>\n",
       "      <th>FIRE_I</th>\n",
       "      <th>OCCUPANT_CNT</th>\n",
       "      <th>EXCEED_SPEED_LIMIT_I</th>\n",
       "      <th>FIRST_CONTACT_POINT</th>\n",
       "    </tr>\n",
       "  </thead>\n",
       "  <tbody>\n",
       "    <tr>\n",
       "      <th>0</th>\n",
       "      <td>1671381</td>\n",
       "      <td>DRIVER</td>\n",
       "      <td>1</td>\n",
       "      <td>bc8e45d4c952022abc487ba5348cba50c718cb126124101aaf1...</td>\n",
       "      <td>09/30/2023 12:03:00 AM</td>\n",
       "      <td>1.0</td>\n",
       "      <td>1590723.0</td>\n",
       "      <td>NaN</td>\n",
       "      <td>CHEVROLET</td>\n",
       "      <td>MALIBU</td>\n",
       "      <td>IL</td>\n",
       "      <td>2019.0</td>\n",
       "      <td>NONE</td>\n",
       "      <td>PASSENGER</td>\n",
       "      <td>UNKNOWN/NA</td>\n",
       "      <td>W</td>\n",
       "      <td>BACKING</td>\n",
       "      <td>NaN</td>\n",
       "      <td>NaN</td>\n",
       "      <td>2.0</td>\n",
       "      <td>NaN</td>\n",
       "      <td>FRONT</td>\n",
       "    </tr>\n",
       "    <tr>\n",
       "      <th>1</th>\n",
       "      <td>1671382</td>\n",
       "      <td>DRIVER</td>\n",
       "      <td>2</td>\n",
       "      <td>bc8e45d4c952022abc487ba5348cba50c718cb126124101aaf1...</td>\n",
       "      <td>09/30/2023 12:03:00 AM</td>\n",
       "      <td>NaN</td>\n",
       "      <td>1590727.0</td>\n",
       "      <td>NaN</td>\n",
       "      <td>CHRYSLER</td>\n",
       "      <td>300</td>\n",
       "      <td>IL</td>\n",
       "      <td>2022.0</td>\n",
       "      <td>NONE</td>\n",
       "      <td>PASSENGER</td>\n",
       "      <td>PERSONAL</td>\n",
       "      <td>W</td>\n",
       "      <td>STRAIGHT AHEAD</td>\n",
       "      <td>NaN</td>\n",
       "      <td>NaN</td>\n",
       "      <td>1.0</td>\n",
       "      <td>NaN</td>\n",
       "      <td>SIDE-LEFT</td>\n",
       "    </tr>\n",
       "    <tr>\n",
       "      <th>2</th>\n",
       "      <td>1671383</td>\n",
       "      <td>DRIVER</td>\n",
       "      <td>3</td>\n",
       "      <td>bc8e45d4c952022abc487ba5348cba50c718cb126124101aaf1...</td>\n",
       "      <td>09/30/2023 12:03:00 AM</td>\n",
       "      <td>NaN</td>\n",
       "      <td>1590729.0</td>\n",
       "      <td>NaN</td>\n",
       "      <td>CHEVROLET</td>\n",
       "      <td>MALIBU</td>\n",
       "      <td>IL</td>\n",
       "      <td>2014.0</td>\n",
       "      <td>NONE</td>\n",
       "      <td>PASSENGER</td>\n",
       "      <td>PERSONAL</td>\n",
       "      <td>W</td>\n",
       "      <td>STRAIGHT AHEAD</td>\n",
       "      <td>NaN</td>\n",
       "      <td>NaN</td>\n",
       "      <td>1.0</td>\n",
       "      <td>NaN</td>\n",
       "      <td>FRONT-LEFT-CORNER</td>\n",
       "    </tr>\n",
       "    <tr>\n",
       "      <th>3</th>\n",
       "      <td>1671384</td>\n",
       "      <td>DRIVER</td>\n",
       "      <td>1</td>\n",
       "      <td>ba4f70f1304e4b2d36582660bce4a56cda9efc723a95a667a06...</td>\n",
       "      <td>09/29/2023 11:11:00 PM</td>\n",
       "      <td>NaN</td>\n",
       "      <td>1590722.0</td>\n",
       "      <td>NaN</td>\n",
       "      <td>UNKNOWN</td>\n",
       "      <td>OTHER (EXPLAIN IN NARRATIVE)</td>\n",
       "      <td>IL</td>\n",
       "      <td>NaN</td>\n",
       "      <td>UNKNOWN</td>\n",
       "      <td>UNKNOWN/NA</td>\n",
       "      <td>UNKNOWN/NA</td>\n",
       "      <td>UNKNOWN</td>\n",
       "      <td>UNKNOWN/NA</td>\n",
       "      <td>NaN</td>\n",
       "      <td>NaN</td>\n",
       "      <td>1.0</td>\n",
       "      <td>NaN</td>\n",
       "      <td>UNKNOWN</td>\n",
       "    </tr>\n",
       "    <tr>\n",
       "      <th>4</th>\n",
       "      <td>1671385</td>\n",
       "      <td>PARKED</td>\n",
       "      <td>2</td>\n",
       "      <td>ba4f70f1304e4b2d36582660bce4a56cda9efc723a95a667a06...</td>\n",
       "      <td>09/29/2023 11:11:00 PM</td>\n",
       "      <td>NaN</td>\n",
       "      <td>1590724.0</td>\n",
       "      <td>NaN</td>\n",
       "      <td>TOYOTA</td>\n",
       "      <td>TUNDRA</td>\n",
       "      <td>IN</td>\n",
       "      <td>2007.0</td>\n",
       "      <td>NONE</td>\n",
       "      <td>PICKUP</td>\n",
       "      <td>NOT IN USE</td>\n",
       "      <td>S</td>\n",
       "      <td>PARKED</td>\n",
       "      <td>NaN</td>\n",
       "      <td>NaN</td>\n",
       "      <td>0.0</td>\n",
       "      <td>NaN</td>\n",
       "      <td>FRONT-LEFT-CORNER</td>\n",
       "    </tr>\n",
       "  </tbody>\n",
       "</table>\n",
       "</div>"
      ],
      "text/plain": [
       "   CRASH_UNIT_ID UNIT_TYPE  UNIT_NO  \\\n",
       "0        1671381    DRIVER        1   \n",
       "1        1671382    DRIVER        2   \n",
       "2        1671383    DRIVER        3   \n",
       "3        1671384    DRIVER        1   \n",
       "4        1671385    PARKED        2   \n",
       "\n",
       "                                          CRASH_RECORD_ID  \\\n",
       "0  bc8e45d4c952022abc487ba5348cba50c718cb126124101aaf1...   \n",
       "1  bc8e45d4c952022abc487ba5348cba50c718cb126124101aaf1...   \n",
       "2  bc8e45d4c952022abc487ba5348cba50c718cb126124101aaf1...   \n",
       "3  ba4f70f1304e4b2d36582660bce4a56cda9efc723a95a667a06...   \n",
       "4  ba4f70f1304e4b2d36582660bce4a56cda9efc723a95a667a06...   \n",
       "\n",
       "               CRASH_DATE  NUM_PASSENGERS  VEHICLE_ID CMRC_VEH_I       MAKE  \\\n",
       "0  09/30/2023 12:03:00 AM             1.0   1590723.0        NaN  CHEVROLET   \n",
       "1  09/30/2023 12:03:00 AM             NaN   1590727.0        NaN   CHRYSLER   \n",
       "2  09/30/2023 12:03:00 AM             NaN   1590729.0        NaN  CHEVROLET   \n",
       "3  09/29/2023 11:11:00 PM             NaN   1590722.0        NaN    UNKNOWN   \n",
       "4  09/29/2023 11:11:00 PM             NaN   1590724.0        NaN     TOYOTA   \n",
       "\n",
       "                          MODEL LIC_PLATE_STATE  VEHICLE_YEAR VEHICLE_DEFECT  \\\n",
       "0                        MALIBU              IL        2019.0           NONE   \n",
       "1                           300              IL        2022.0           NONE   \n",
       "2                        MALIBU              IL        2014.0           NONE   \n",
       "3  OTHER (EXPLAIN IN NARRATIVE)              IL           NaN        UNKNOWN   \n",
       "4                        TUNDRA              IN        2007.0           NONE   \n",
       "\n",
       "  VEHICLE_TYPE VEHICLE_USE TRAVEL_DIRECTION        MANEUVER TOWED_I FIRE_I  \\\n",
       "0    PASSENGER  UNKNOWN/NA                W         BACKING     NaN    NaN   \n",
       "1    PASSENGER    PERSONAL                W  STRAIGHT AHEAD     NaN    NaN   \n",
       "2    PASSENGER    PERSONAL                W  STRAIGHT AHEAD     NaN    NaN   \n",
       "3   UNKNOWN/NA  UNKNOWN/NA          UNKNOWN      UNKNOWN/NA     NaN    NaN   \n",
       "4       PICKUP  NOT IN USE                S          PARKED     NaN    NaN   \n",
       "\n",
       "   OCCUPANT_CNT EXCEED_SPEED_LIMIT_I FIRST_CONTACT_POINT  \n",
       "0           2.0                  NaN               FRONT  \n",
       "1           1.0                  NaN           SIDE-LEFT  \n",
       "2           1.0                  NaN   FRONT-LEFT-CORNER  \n",
       "3           1.0                  NaN             UNKNOWN  \n",
       "4           0.0                  NaN   FRONT-LEFT-CORNER  "
      ]
     },
     "execution_count": 3,
     "metadata": {},
     "output_type": "execute_result"
    }
   ],
   "source": [
    "vehicles.head()"
   ]
  },
  {
   "cell_type": "markdown",
   "metadata": {},
   "source": [
    "looking into null values"
   ]
  },
  {
   "cell_type": "code",
   "execution_count": 4,
   "metadata": {},
   "outputs": [
    {
     "data": {
      "text/plain": [
       "CRASH_UNIT_ID                 0\n",
       "UNIT_TYPE                  2067\n",
       "UNIT_NO                       0\n",
       "CRASH_RECORD_ID               0\n",
       "CRASH_DATE                    0\n",
       "NUM_PASSENGERS          1331174\n",
       "VEHICLE_ID                35627\n",
       "CMRC_VEH_I              1533373\n",
       "MAKE                      35632\n",
       "MODEL                     35777\n",
       "LIC_PLATE_STATE          175186\n",
       "VEHICLE_YEAR             282273\n",
       "VEHICLE_DEFECT            35627\n",
       "VEHICLE_TYPE              35627\n",
       "VEHICLE_USE               35627\n",
       "TRAVEL_DIRECTION          35627\n",
       "MANEUVER                  35627\n",
       "TOWED_I                 1369900\n",
       "FIRE_I                  1561237\n",
       "OCCUPANT_CNT              35627\n",
       "EXCEED_SPEED_LIMIT_I    1560110\n",
       "FIRST_CONTACT_POINT       38728\n",
       "dtype: int64"
      ]
     },
     "execution_count": 4,
     "metadata": {},
     "output_type": "execute_result"
    }
   ],
   "source": [
    "vehicles.isnull().sum()"
   ]
  },
  {
   "cell_type": "markdown",
   "metadata": {},
   "source": [
    "Going to drop some colums as I just want to look into the crash types"
   ]
  },
  {
   "cell_type": "code",
   "execution_count": 5,
   "metadata": {},
   "outputs": [],
   "source": [
    "vehicles = vehicles.drop(columns = ['CMRC_VEH_I','CMRC_VEH_I','TOWED_I','FIRE_I','NUM_PASSENGERS'\n",
    "                                    ,'EXCEED_SPEED_LIMIT_I', 'LIC_PLATE_STATE','VEHICLE_YEAR'])"
   ]
  },
  {
   "cell_type": "code",
   "execution_count": 6,
   "metadata": {},
   "outputs": [
    {
     "name": "stdout",
     "output_type": "stream",
     "text": [
      "<class 'pandas.core.frame.DataFrame'>\n",
      "RangeIndex: 1562507 entries, 0 to 1562506\n",
      "Data columns (total 15 columns):\n",
      " #   Column               Non-Null Count    Dtype  \n",
      "---  ------               --------------    -----  \n",
      " 0   CRASH_UNIT_ID        1562507 non-null  int64  \n",
      " 1   UNIT_TYPE            1560440 non-null  object \n",
      " 2   UNIT_NO              1562507 non-null  int64  \n",
      " 3   CRASH_RECORD_ID      1562507 non-null  object \n",
      " 4   CRASH_DATE           1562507 non-null  object \n",
      " 5   VEHICLE_ID           1526880 non-null  float64\n",
      " 6   MAKE                 1526875 non-null  object \n",
      " 7   MODEL                1526730 non-null  object \n",
      " 8   VEHICLE_DEFECT       1526880 non-null  object \n",
      " 9   VEHICLE_TYPE         1526880 non-null  object \n",
      " 10  VEHICLE_USE          1526880 non-null  object \n",
      " 11  TRAVEL_DIRECTION     1526880 non-null  object \n",
      " 12  MANEUVER             1526880 non-null  object \n",
      " 13  OCCUPANT_CNT         1526880 non-null  float64\n",
      " 14  FIRST_CONTACT_POINT  1523779 non-null  object \n",
      "dtypes: float64(2), int64(2), object(11)\n",
      "memory usage: 178.8+ MB\n"
     ]
    }
   ],
   "source": [
    "vehicles.info()"
   ]
  },
  {
   "cell_type": "code",
   "execution_count": 7,
   "metadata": {},
   "outputs": [
    {
     "data": {
      "text/plain": [
       "CRASH_UNIT_ID          0.000000\n",
       "UNIT_TYPE              0.001323\n",
       "UNIT_NO                0.000000\n",
       "CRASH_RECORD_ID        0.000000\n",
       "CRASH_DATE             0.000000\n",
       "VEHICLE_ID             0.022801\n",
       "MAKE                   0.022804\n",
       "MODEL                  0.022897\n",
       "VEHICLE_DEFECT         0.022801\n",
       "VEHICLE_TYPE           0.022801\n",
       "VEHICLE_USE            0.022801\n",
       "TRAVEL_DIRECTION       0.022801\n",
       "MANEUVER               0.022801\n",
       "OCCUPANT_CNT           0.022801\n",
       "FIRST_CONTACT_POINT    0.024786\n",
       "dtype: float64"
      ]
     },
     "execution_count": 7,
     "metadata": {},
     "output_type": "execute_result"
    }
   ],
   "source": [
    "vehicles.isna().mean()"
   ]
  },
  {
   "cell_type": "code",
   "execution_count": null,
   "metadata": {},
   "outputs": [],
   "source": []
  },
  {
   "cell_type": "code",
   "execution_count": null,
   "metadata": {},
   "outputs": [],
   "source": []
  },
  {
   "cell_type": "code",
   "execution_count": null,
   "metadata": {},
   "outputs": [],
   "source": []
  },
  {
   "cell_type": "code",
   "execution_count": null,
   "metadata": {},
   "outputs": [],
   "source": []
  },
  {
   "cell_type": "code",
   "execution_count": null,
   "metadata": {},
   "outputs": [],
   "source": []
  },
  {
   "cell_type": "code",
   "execution_count": null,
   "metadata": {},
   "outputs": [],
   "source": []
  },
  {
   "cell_type": "code",
   "execution_count": null,
   "metadata": {},
   "outputs": [],
   "source": []
  },
  {
   "cell_type": "code",
   "execution_count": null,
   "metadata": {},
   "outputs": [],
   "source": []
  },
  {
   "cell_type": "code",
   "execution_count": null,
   "metadata": {},
   "outputs": [],
   "source": []
  },
  {
   "cell_type": "code",
   "execution_count": null,
   "metadata": {},
   "outputs": [],
   "source": []
  },
  {
   "cell_type": "code",
   "execution_count": null,
   "metadata": {},
   "outputs": [],
   "source": []
  },
  {
   "cell_type": "code",
   "execution_count": null,
   "metadata": {},
   "outputs": [],
   "source": []
  },
  {
   "cell_type": "code",
   "execution_count": null,
   "metadata": {},
   "outputs": [],
   "source": []
  },
  {
   "cell_type": "code",
   "execution_count": null,
   "metadata": {},
   "outputs": [],
   "source": []
  },
  {
   "cell_type": "code",
   "execution_count": null,
   "metadata": {},
   "outputs": [],
   "source": []
  },
  {
   "cell_type": "code",
   "execution_count": null,
   "metadata": {},
   "outputs": [],
   "source": []
  },
  {
   "cell_type": "code",
   "execution_count": null,
   "metadata": {},
   "outputs": [],
   "source": []
  },
  {
   "cell_type": "code",
   "execution_count": null,
   "metadata": {},
   "outputs": [],
   "source": []
  },
  {
   "cell_type": "code",
   "execution_count": null,
   "metadata": {},
   "outputs": [],
   "source": []
  },
  {
   "cell_type": "code",
   "execution_count": null,
   "metadata": {},
   "outputs": [],
   "source": []
  },
  {
   "cell_type": "code",
   "execution_count": null,
   "metadata": {},
   "outputs": [],
   "source": []
  },
  {
   "cell_type": "code",
   "execution_count": null,
   "metadata": {},
   "outputs": [],
   "source": []
  },
  {
   "cell_type": "code",
   "execution_count": null,
   "metadata": {},
   "outputs": [],
   "source": []
  },
  {
   "cell_type": "code",
   "execution_count": null,
   "metadata": {},
   "outputs": [],
   "source": []
  },
  {
   "cell_type": "code",
   "execution_count": null,
   "metadata": {},
   "outputs": [],
   "source": []
  },
  {
   "cell_type": "code",
   "execution_count": null,
   "metadata": {},
   "outputs": [],
   "source": []
  },
  {
   "cell_type": "code",
   "execution_count": null,
   "metadata": {},
   "outputs": [],
   "source": []
  },
  {
   "cell_type": "code",
   "execution_count": null,
   "metadata": {},
   "outputs": [],
   "source": []
  },
  {
   "cell_type": "code",
   "execution_count": null,
   "metadata": {},
   "outputs": [],
   "source": []
  },
  {
   "cell_type": "code",
   "execution_count": null,
   "metadata": {},
   "outputs": [],
   "source": []
  },
  {
   "cell_type": "code",
   "execution_count": null,
   "metadata": {},
   "outputs": [],
   "source": []
  },
  {
   "cell_type": "code",
   "execution_count": null,
   "metadata": {},
   "outputs": [],
   "source": []
  },
  {
   "cell_type": "code",
   "execution_count": null,
   "metadata": {},
   "outputs": [],
   "source": []
  },
  {
   "cell_type": "code",
   "execution_count": null,
   "metadata": {},
   "outputs": [],
   "source": []
  },
  {
   "cell_type": "code",
   "execution_count": null,
   "metadata": {},
   "outputs": [],
   "source": []
  },
  {
   "cell_type": "code",
   "execution_count": null,
   "metadata": {},
   "outputs": [],
   "source": []
  },
  {
   "cell_type": "code",
   "execution_count": null,
   "metadata": {},
   "outputs": [],
   "source": []
  }
 ],
 "metadata": {
  "kernelspec": {
   "display_name": "Python (learn-env)",
   "language": "python",
   "name": "learn-env"
  },
  "language_info": {
   "codemirror_mode": {
    "name": "ipython",
    "version": 3
   },
   "file_extension": ".py",
   "mimetype": "text/x-python",
   "name": "python",
   "nbconvert_exporter": "python",
   "pygments_lexer": "ipython3",
   "version": "3.8.5"
  }
 },
 "nbformat": 4,
 "nbformat_minor": 4
}
